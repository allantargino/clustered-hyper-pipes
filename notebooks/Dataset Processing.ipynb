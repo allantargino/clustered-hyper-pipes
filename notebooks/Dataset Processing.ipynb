{
 "cells": [
  {
   "cell_type": "code",
   "execution_count": 1,
   "metadata": {},
   "outputs": [],
   "source": [
    "import math\n",
    "import csv\n",
    "import os\n",
    "import numpy as np"
   ]
  },
  {
   "cell_type": "code",
   "execution_count": 10,
   "metadata": {},
   "outputs": [],
   "source": [
    "# Ler\n",
    "dir = os.getcwd()\n",
    "\n",
    "directory = '..\\\\datasets\\\\vehicle'\n",
    "rows = []\n",
    "for root,dirs,files in os.walk(directory):\n",
    "    for file in files:\n",
    "        if file.endswith(\".dat\"):\n",
    "            file_name = os.path.join(dir, directory, file)\n",
    "            csvfile = open(file_name, 'r')\n",
    "            \n",
    "            readCSV = csv.reader(csvfile, delimiter=' ')\n",
    "            for row in readCSV:\n",
    "                rows.append(row)\n",
    "        \n",
    "            csvfile.close()\n",
    "            \n",
    "# Gravar\n",
    "#file = 'final.csv'\n",
    "#with open(file, 'w', newline='') as f:\n",
    "    #writer = csv.writer(f)\n",
    "    #writer.writerows(row for row in rows if row)"
   ]
  },
  {
   "cell_type": "code",
   "execution_count": 3,
   "metadata": {},
   "outputs": [],
   "source": [
    "class custom_datasets():\n",
    "    \n",
    "    @classmethod\n",
    "    def load_ionosphere(self):\n",
    "        return self.load_custom_dataset('..\\\\datasets\\\\ionosphere.data')\n",
    "\n",
    "    @classmethod\n",
    "    def load_wine(self):\n",
    "        return self.load_custom_dataset('..\\\\datasets\\\\wine_processed.data')\n",
    "\n",
    "    @classmethod\n",
    "    def load_live_disorders(self):\n",
    "        return self.load_custom_dataset('..\\\\datasets\\\\bupa.data')\n",
    "    \n",
    "    @classmethod\n",
    "    def load_vehicle(self):\n",
    "        dataset = self.load_custom_dataset('..\\\\datasets\\\\vehicle.data', 'int')\n",
    "        dataset.data = dataset.data[1:]\n",
    "        dataset.target = dataset.target[1:]\n",
    "        return dataset\n",
    "\n",
    "    @classmethod\n",
    "    def load_balance_scale(self):\n",
    "        return self.load_custom_dataset('..\\\\datasets\\\\balance-scale.data')\n",
    "    \n",
    "    @classmethod\n",
    "    def load_zoo(self):\n",
    "        #dataset = self.load_custom_dataset('..\\\\datasets\\\\skin-segmentation.data')\n",
    "        #dataset.data = dataset.data[1:]\n",
    "        #dataset.target = dataset.target[1:]\n",
    "        #return dataset\n",
    "        return self.load_custom_dataset('..\\\\datasets\\\\zoo.data')\n",
    "    \n",
    "    @classmethod\n",
    "    def load_custom_dataset(self, path, dtype='float64'):\n",
    "        dir = os.getcwd()\n",
    "        file_name = os.path.join(dir, path)\n",
    "\n",
    "        data = np.genfromtxt(file_name, delimiter=',', dtype=dtype)\n",
    "            \n",
    "        n_cols = data.shape[1]\n",
    "\n",
    "        X = data[:,0:n_cols-1]\n",
    "        y =np.genfromtxt(file_name, delimiter=',', usecols=(n_cols-1), dtype=None)\n",
    "\n",
    "        return Dataset(X, y)\n",
    "    \n",
    "\n",
    "class Dataset:\n",
    "\n",
    "    def __init__(self, X, y):\n",
    "        self.data = X\n",
    "        self.target = y"
   ]
  },
  {
   "cell_type": "code",
   "execution_count": 5,
   "metadata": {},
   "outputs": [],
   "source": [
    "np.set_printoptions(threshold=np.inf)\n",
    "\n",
    "dataset = custom_datasets.load_zoo()\n",
    "\n",
    "for i in range(dataset.data.shape[0]):\n",
    "    for j in range(dataset.data.shape[1]):\n",
    "        if(math.isnan(dataset.data[i][j])):\n",
    "            print((i,j))"
   ]
  },
  {
   "cell_type": "code",
   "execution_count": 6,
   "metadata": {},
   "outputs": [
    {
     "data": {
      "text/plain": [
       "array([1., 0., 0., 1., 0., 0., 1., 1., 1., 1., 0., 0., 4., 0., 0., 1.])"
      ]
     },
     "execution_count": 6,
     "metadata": {},
     "output_type": "execute_result"
    }
   ],
   "source": [
    "dataset.data[0]"
   ]
  },
  {
   "cell_type": "code",
   "execution_count": 7,
   "metadata": {},
   "outputs": [
    {
     "data": {
      "text/plain": [
       "True"
      ]
     },
     "execution_count": 7,
     "metadata": {},
     "output_type": "execute_result"
    }
   ],
   "source": [
    "dataset.data\n",
    "np.all(np.isfinite(dataset.data))"
   ]
  },
  {
   "cell_type": "code",
   "execution_count": 8,
   "metadata": {},
   "outputs": [
    {
     "data": {
      "text/plain": [
       "False"
      ]
     },
     "execution_count": 8,
     "metadata": {},
     "output_type": "execute_result"
    }
   ],
   "source": [
    "np.any(np.isnan(dataset.data))"
   ]
  },
  {
   "cell_type": "code",
   "execution_count": 9,
   "metadata": {},
   "outputs": [
    {
     "data": {
      "text/plain": [
       "array([], dtype=int64)"
      ]
     },
     "execution_count": 9,
     "metadata": {},
     "output_type": "execute_result"
    }
   ],
   "source": [
    "np.where(np.all(np.isnan(dataset.data), axis=1))[0]"
   ]
  }
 ],
 "metadata": {
  "kernelspec": {
   "display_name": "Python 3",
   "language": "python",
   "name": "python3"
  },
  "language_info": {
   "codemirror_mode": {
    "name": "ipython",
    "version": 3
   },
   "file_extension": ".py",
   "mimetype": "text/x-python",
   "name": "python",
   "nbconvert_exporter": "python",
   "pygments_lexer": "ipython3",
   "version": "3.6.4"
  }
 },
 "nbformat": 4,
 "nbformat_minor": 2
}
