{
 "cells": [
  {
   "cell_type": "code",
   "execution_count": 1,
   "metadata": {},
   "outputs": [],
   "source": [
    "import numpy as np\n",
    "from numpy import array\n",
    "from hyperPipes import HyperPipes\n",
    "from classDecomposition import ClassDecomposition\n",
    "from sklearn import datasets\n",
    "from sklearn.cluster import KMeans\n",
    "from sklearn.model_selection import train_test_split\n",
    "from sklearn.metrics import accuracy_score\n",
    "from sklearn.naive_bayes import GaussianNB"
   ]
  },
  {
   "cell_type": "code",
   "execution_count": 2,
   "metadata": {},
   "outputs": [],
   "source": [
    "class HyperPipe:\n",
    "    \n",
    "    def __init__(self):\n",
    "        self.n_dimensions = 0\n",
    "        self.numerical_bounds = []\n",
    "\n",
    "    def fit(self, data_x, target_class):\n",
    "        self.target_class = target_class\n",
    "        self.n_dimensions = data_x.shape[1]\n",
    "\n",
    "        # Initializes bounds\n",
    "        for i in range(self.n_dimensions):\n",
    "            bounds = []\n",
    "            bounds.append(float('+inf'))  # lower bound\n",
    "            bounds.append(float('-inf'))  # upper bound\n",
    "            self.numerical_bounds.append(bounds)\n",
    "\n",
    "        # Add instances\n",
    "        for i in range(data_x.shape[0]):\n",
    "            self.__add_instance__(data_x[i])\n",
    "\n",
    "        return None\n",
    "\n",
    "    def __add_instance__(self, data_x):\n",
    "        #check boundaries\n",
    "        for i in range(self.n_dimensions):\n",
    "            if(data_x[i] < self.numerical_bounds[i][0]):\n",
    "                self.numerical_bounds[i][0] = data_x[i]\n",
    "            if(data_x[i] > self.numerical_bounds[i][1]):\n",
    "                self.numerical_bounds[i][1] = data_x[i]\n",
    "\n",
    "        return None\n",
    "\n",
    "    def partial_contains(self, data_x):\n",
    "        count = 0\n",
    "        for i in range(self.n_dimensions):\n",
    "            if(data_x[i] > self.numerical_bounds[i][0] and data_x[i] < self.numerical_bounds[i][1]):\n",
    "                count += 1\n",
    "        score = float(count) / self.n_dimensions\n",
    "\n",
    "        return (score, self.target_class)"
   ]
  },
  {
   "cell_type": "code",
   "execution_count": 3,
   "metadata": {},
   "outputs": [],
   "source": [
    "class HyperPipes:\n",
    "\n",
    "    def __init__(self):\n",
    "        self.hyper_pipes = []\n",
    "\n",
    "    def fit(self, data_x, data_y):\n",
    "        self.y_unique_values, self.y_unique_indices = np.unique(\n",
    "            data_y, return_inverse=True)\n",
    "        self.n_y_unique = self.y_unique_values.shape[0]\n",
    "        self.hyper_pipes = [HyperPipe() for i in range(self.n_y_unique)]\n",
    "\n",
    "        for i in range(self.n_y_unique):\n",
    "            target_class = self.y_unique_values[i]\n",
    "            target_class_indices = np.where(data_y == target_class)\n",
    "            data_x_filtered = data_x[target_class_indices]\n",
    "            self.hyper_pipes[i].fit(data_x_filtered, target_class)\n",
    "\n",
    "        return self\n",
    "\n",
    "    def predict(self, data_x):\n",
    "        #scores = []\n",
    "        predictions = []\n",
    "        for instance in data_x:\n",
    "            partial_results = []\n",
    "            for i in range(self.n_y_unique):\n",
    "                partial_results.append(self.hyper_pipes[i].partial_contains(instance))\n",
    "            best = max(partial_results,key=lambda item:item[0])[1]\n",
    "            predictions.append(best)\n",
    "\n",
    "        return predictions"
   ]
  },
  {
   "cell_type": "code",
   "execution_count": 18,
   "metadata": {},
   "outputs": [],
   "source": [
    "class ClassDecomposition:\n",
    "    \n",
    "    def __init__(self, algorithm, k):\n",
    "        self.algorithm = algorithm\n",
    "        self.k = k\n",
    "\n",
    "    def decompose(self, data_x, data_y):\n",
    "        self.y_unique_values, self.y_unique_indices = np.unique(data_y, return_inverse=True)\n",
    "        self.n_y_unique = self.y_unique_values.shape[0]\n",
    "\n",
    "        renamed_data_x = np.array([])\n",
    "        renamed_data_y = np.array([])\n",
    "        for i in range(self.n_y_unique):\n",
    "            target_class = self.y_unique_values[i]\n",
    "            target_class_indices = np.where(data_y == target_class)\n",
    "\n",
    "            data_i_x = data_x[target_class_indices]\n",
    "            data_i_y = data_y[target_class_indices]\n",
    "            fitted = self.algorithm.fit(data_i_x)\n",
    "            labels = fitted.labels_\n",
    "            \n",
    "            for j in range(self.k):\n",
    "                indices_j = np.where(labels == j)\n",
    "                data_j_x = data_i_x[indices_j]\n",
    "                data_j_y = data_i_y[indices_j]\n",
    "\n",
    "                relabed = self.relabel(data_j_y, j)\n",
    "\n",
    "                renamed_data_x = np.append(renamed_data_x, data_j_x)\n",
    "                renamed_data_y = np.append(renamed_data_y, relabed)\n",
    "\n",
    "        X = np.reshape(renamed_data_x, (data_x.shape[0], data_x.shape[1]))\n",
    "        y = renamed_data_y\n",
    "        \n",
    "        return X, y\n",
    "\n",
    "    def relabel(self, data, cluster_idx):\n",
    "        return np.array(list(map(lambda item: str(item) + chr(65 + cluster_idx), data)))"
   ]
  },
  {
   "cell_type": "code",
   "execution_count": 19,
   "metadata": {},
   "outputs": [],
   "source": [
    "dataset = datasets.load_breast_cancer()\n",
    "X, y = dataset.data, dataset.target"
   ]
  },
  {
   "cell_type": "code",
   "execution_count": 20,
   "metadata": {},
   "outputs": [],
   "source": [
    "X_train, X_test, y_train, y_test = train_test_split(X, y, test_size=0.33, random_state=42)"
   ]
  },
  {
   "cell_type": "code",
   "execution_count": 21,
   "metadata": {},
   "outputs": [
    {
     "data": {
      "text/plain": [
       "(569, 30)"
      ]
     },
     "execution_count": 21,
     "metadata": {},
     "output_type": "execute_result"
    }
   ],
   "source": [
    "X.shape"
   ]
  },
  {
   "cell_type": "code",
   "execution_count": 22,
   "metadata": {},
   "outputs": [
    {
     "data": {
      "text/plain": [
       "(569,)"
      ]
     },
     "execution_count": 22,
     "metadata": {},
     "output_type": "execute_result"
    }
   ],
   "source": [
    "y.shape"
   ]
  },
  {
   "cell_type": "code",
   "execution_count": 23,
   "metadata": {},
   "outputs": [
    {
     "name": "stdout",
     "output_type": "stream",
     "text": [
      "HyperPipes:\t0.7925531914893617\n"
     ]
    }
   ],
   "source": [
    "hp = HyperPipes()\n",
    "y_predicted = hp.fit(X_train, y_train).predict(X_test)\n",
    "accuracy = accuracy_score(y_test, y_predicted)\n",
    "print('HyperPipes:\\t' + str(accuracy))"
   ]
  },
  {
   "cell_type": "code",
   "execution_count": 24,
   "metadata": {},
   "outputs": [
    {
     "name": "stdout",
     "output_type": "stream",
     "text": [
      "GaussianNB:\t0.9414893617021277\n"
     ]
    }
   ],
   "source": [
    "classifier = GaussianNB()\n",
    "y_predicted = classifier.fit(X_train, y_train).predict(X_test)\n",
    "accuracy = accuracy_score(y_test, y_predicted)\n",
    "print('GaussianNB:\\t' + str(accuracy))"
   ]
  },
  {
   "cell_type": "code",
   "execution_count": 25,
   "metadata": {},
   "outputs": [],
   "source": [
    "k = 2\n",
    "kmeans = KMeans(n_clusters=k, random_state=0)\n",
    "cd = ClassDecomposition(kmeans, k)\n",
    "X_decomposed, y_decomposed = cd.decompose(X,y)"
   ]
  },
  {
   "cell_type": "code",
   "execution_count": 26,
   "metadata": {},
   "outputs": [
    {
     "name": "stdout",
     "output_type": "stream",
     "text": [
      "before: 2\n",
      "after : 4\n"
     ]
    }
   ],
   "source": [
    "print('before: ' + str(len(set(y))))\n",
    "print('after : ' + str(len(set(y_decomposed))))"
   ]
  },
  {
   "cell_type": "code",
   "execution_count": 31,
   "metadata": {},
   "outputs": [],
   "source": [
    "X_train, X_test, y_train, y_test = train_test_split(X_decomposed, y_decomposed, test_size=0.33, random_state=42)"
   ]
  },
  {
   "cell_type": "code",
   "execution_count": 28,
   "metadata": {},
   "outputs": [
    {
     "data": {
      "text/plain": [
       "(569, 30)"
      ]
     },
     "execution_count": 28,
     "metadata": {},
     "output_type": "execute_result"
    }
   ],
   "source": [
    "X_decomposed.shape"
   ]
  },
  {
   "cell_type": "code",
   "execution_count": 29,
   "metadata": {},
   "outputs": [
    {
     "data": {
      "text/plain": [
       "(569,)"
      ]
     },
     "execution_count": 29,
     "metadata": {},
     "output_type": "execute_result"
    }
   ],
   "source": [
    "y_decomposed.shape"
   ]
  },
  {
   "cell_type": "code",
   "execution_count": 34,
   "metadata": {},
   "outputs": [
    {
     "name": "stdout",
     "output_type": "stream",
     "text": [
      "HyperPipes:\t0.8723404255319149\n"
     ]
    }
   ],
   "source": [
    "hp = HyperPipes()\n",
    "y_predicted = hp.fit(X_train, y_train).predict(X_test)\n",
    "accuracy = accuracy_score(y_test, y_predicted)\n",
    "print('HyperPipes:\\t' + str(accuracy))"
   ]
  },
  {
   "cell_type": "code",
   "execution_count": 32,
   "metadata": {},
   "outputs": [
    {
     "name": "stdout",
     "output_type": "stream",
     "text": [
      "GaussianNB:\t0.9361702127659575\n"
     ]
    }
   ],
   "source": [
    "classifier = GaussianNB()\n",
    "y_predicted = classifier.fit(X_train, y_train).predict(X_test)\n",
    "accuracy = accuracy_score(y_test, y_predicted)\n",
    "print('GaussianNB:\\t' + str(accuracy))"
   ]
  }
 ],
 "metadata": {
  "kernelspec": {
   "display_name": "Python 3",
   "language": "python",
   "name": "python3"
  },
  "language_info": {
   "codemirror_mode": {
    "name": "ipython",
    "version": 3
   },
   "file_extension": ".py",
   "mimetype": "text/x-python",
   "name": "python",
   "nbconvert_exporter": "python",
   "pygments_lexer": "ipython3",
   "version": "3.6.4"
  }
 },
 "nbformat": 4,
 "nbformat_minor": 2
}
